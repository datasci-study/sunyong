{
 "cells": [
  {
   "cell_type": "code",
   "execution_count": 2,
   "metadata": {},
   "outputs": [
    {
     "name": "stdin",
     "output_type": "stream",
     "text": [
      " 3\n",
      " 4 4\n",
      " 2 3 4 5\n"
     ]
    },
    {
     "name": "stdout",
     "output_type": "stream",
     "text": [
      "<__main__.linkedlist object at 0x000001C2B6E009C8>\n"
     ]
    },
    {
     "name": "stdin",
     "output_type": "stream",
     "text": [
      " 4 8 7 6\n"
     ]
    },
    {
     "ename": "AttributeError",
     "evalue": "'NoneType' object has no attribute 'data'",
     "output_type": "error",
     "traceback": [
      "\u001b[1;31m---------------------------------------------------------------------------\u001b[0m",
      "\u001b[1;31mAttributeError\u001b[0m                            Traceback (most recent call last)",
      "\u001b[1;32m<ipython-input-2-7571facc1003>\u001b[0m in \u001b[0;36m<module>\u001b[1;34m\u001b[0m\n\u001b[0;32m    111\u001b[0m             \u001b[0mb\u001b[0m\u001b[1;33m.\u001b[0m\u001b[0mappend\u001b[0m\u001b[1;33m(\u001b[0m\u001b[0mj\u001b[0m\u001b[1;33m)\u001b[0m\u001b[1;33m\u001b[0m\u001b[1;33m\u001b[0m\u001b[0m\n\u001b[0;32m    112\u001b[0m         \u001b[1;31m# a에 b 삽입\u001b[0m\u001b[1;33m\u001b[0m\u001b[1;33m\u001b[0m\u001b[1;33m\u001b[0m\u001b[0m\n\u001b[1;32m--> 113\u001b[1;33m         \u001b[0ma\u001b[0m\u001b[1;33m.\u001b[0m\u001b[0minsert\u001b[0m\u001b[1;33m(\u001b[0m\u001b[0mb\u001b[0m\u001b[1;33m)\u001b[0m\u001b[1;33m\u001b[0m\u001b[1;33m\u001b[0m\u001b[0m\n\u001b[0m",
      "\u001b[1;32m<ipython-input-2-7571facc1003>\u001b[0m in \u001b[0;36minsert\u001b[1;34m(self, seq)\u001b[0m\n\u001b[0;32m     70\u001b[0m                 \u001b[1;32melse\u001b[0m\u001b[1;33m:\u001b[0m \u001b[1;31m#마지막 자리에 넣을 경우\u001b[0m\u001b[1;33m\u001b[0m\u001b[1;33m\u001b[0m\u001b[0m\n\u001b[0;32m     71\u001b[0m                     \u001b[1;32mfor\u001b[0m \u001b[0m_\u001b[0m \u001b[1;32min\u001b[0m \u001b[0mrange\u001b[0m\u001b[1;33m(\u001b[0m\u001b[0mm\u001b[0m\u001b[1;33m)\u001b[0m\u001b[1;33m:\u001b[0m\u001b[1;33m\u001b[0m\u001b[1;33m\u001b[0m\u001b[0m\n\u001b[1;32m---> 72\u001b[1;33m                         \u001b[0mnew\u001b[0m\u001b[1;33m=\u001b[0m\u001b[0mnode\u001b[0m\u001b[1;33m(\u001b[0m\u001b[0mseq\u001b[0m\u001b[1;33m.\u001b[0m\u001b[0mhead\u001b[0m\u001b[1;33m.\u001b[0m\u001b[0mdata\u001b[0m\u001b[1;33m)\u001b[0m\u001b[1;33m\u001b[0m\u001b[1;33m\u001b[0m\u001b[0m\n\u001b[0m\u001b[0;32m     73\u001b[0m                         \u001b[0mtarget\u001b[0m\u001b[1;33m.\u001b[0m\u001b[0mnext\u001b[0m\u001b[1;33m=\u001b[0m\u001b[0mnew\u001b[0m\u001b[1;33m\u001b[0m\u001b[1;33m\u001b[0m\u001b[0m\n\u001b[0;32m     74\u001b[0m                         \u001b[0mtarget\u001b[0m\u001b[1;33m=\u001b[0m\u001b[0mnew\u001b[0m\u001b[1;33m\u001b[0m\u001b[1;33m\u001b[0m\u001b[0m\n",
      "\u001b[1;31mAttributeError\u001b[0m: 'NoneType' object has no attribute 'data'"
     ]
    }
   ],
   "source": [
    "'''여러 개의 수열을 정해진 규칙에 따라 합치려고 한다. 다음은 3개의 수열이 주어진 경우의 예이다.\n",
    "\n",
    "\n",
    "수열 2의 첫 숫자 보다 큰 수자를 수열 1에서 찾아 그 앞에 수열 2를 끼워 넣는다.\n",
    " \n",
    "\n",
    "합쳐진 수열에 대해, 수열 3의 첫 숫자보다 큰 숫자를 찾아 그 앞에 수열 3을 끼워 넣는다. 큰 숫자가 없는 경우 맨 뒤에 붙인다.\n",
    " \n",
    "\n",
    "마지막 수열까지 합치고 나면, 맨 뒤의 숫자부터 역순으로 10개를 출력한다.\n",
    "\n",
    "[입력]\n",
    "\n",
    "첫 줄에 테스트케이스의 수 T가 주어진다. 1<=T<=50\n",
    "\n",
    "다음 줄부터 테스트 케이스의 별로 첫 줄에 수열의 길이 N, 수열의 개수 M, 이후 M개의 줄에 걸쳐 1000이하의 자연수로 구성된 수열이 주어진다. 4<=N<=1000, 1<=M<=1000\n",
    "\n",
    "[출력]\n",
    "\n",
    "각 줄마다 \"#T\" (T는 테스트 케이스 번호)를 출력한 뒤, 완성된 수열의 맨 뒤부터 10개의 숫자를 역순으로 출력한다.\n",
    "\n",
    "입력\n",
    "3\n",
    "4 4\n",
    "2 3 4 5\n",
    "4 8 7 6\n",
    "9 10 15 16\n",
    "1 2 6 5\n",
    "5 5\n",
    "273 415 58 798 251\n",
    "675 193 494 506 365\n",
    "479 390 224 334 387\n",
    "107 402 569 422 183\n",
    "88 709 994 206 916\n",
    "10 10\n",
    "178 778 659 231 274 123 788 16 483 404\n",
    "36 14 602 74 287 689 730 703 611 339\n",
    "445 468 126 821 946 212 218 143 999 923\n",
    "288 792 249 142 996 999 570 757 141 921\n",
    "98 87 800 892 401 244 661 179 403 985\n",
    "474 315 694 816 838 525 288 94 609 6\n",
    "789 433 474 883 927 841 242 233 286 749\n",
    "7 667 875 986 107 957 887 520 430 649\n",
    "721 206 65 776 328 807 845 908 382 836\n",
    "707 811 790 652 805 190 407 257 668 307'''\n",
    "\n",
    "class node:\n",
    "    def __init__(self,data):\n",
    "        self.data=data\n",
    "        self.next=None\n",
    "        \n",
    "class linkedlist:\n",
    "    def __init__(self):\n",
    "        self.head=None\n",
    "    def append(self,data):\n",
    "        target=self.head\n",
    "        if target==None:\n",
    "            self.head=node(data)\n",
    "            return\n",
    "        while target.next!=None:\n",
    "            target=target.next\n",
    "            target.next=node(data)\n",
    "    def insert(self,seq):\n",
    "        target=self.head\n",
    "        while 1:\n",
    "            if target.data<seq.head.data:# 넣을 자리를 찾기\n",
    "                if target.next!=None:\n",
    "                    temp=target# target의 앞 노드 다음부터 넣을 때 사용\n",
    "                    target=target.next\n",
    "                else: #마지막 자리에 넣을 경우\n",
    "                    for _ in range(m):\n",
    "                        new=node(seq.head.data)\n",
    "                        target.next=new\n",
    "                        target=new\n",
    "                        seq.head=seq.head.next\n",
    "                    break\n",
    "                    \n",
    "                \n",
    "            if target.data>seq.head.data:#target 앞에 수열을 넣을 경우-> temp의 다음부터 넣기\n",
    "                for _ in range(m):\n",
    "                    new=node(seq.head.data)\n",
    "                    temp.next=new\n",
    "                    new.next=target\n",
    "                    new=temp#계속 추가해야 되기 때문에 temp 초기화\n",
    "                    seq.head=seq.head.next\n",
    "                break\n",
    "    def print_list(self):\n",
    "        result=[]\n",
    "        target=self.head\n",
    "        for _ in range(n*m):\n",
    "            result.append(target.data)\n",
    "            target=target.next\n",
    "        return ' '.join(map(str,result[-1:-11:-1]))\n",
    "        \n",
    "            \n",
    "t=int(input())\n",
    "for test_case in range(1, t + 1):\n",
    "    n, m = map(int, input().split())\n",
    "    # 빈 linkedlist 생성\n",
    "    a = linkedlist()\n",
    "    # linkedlist 입력받기\n",
    "    for i in map(int, input().split()):\n",
    "        a.append(i)\n",
    "    print(a)\n",
    "\n",
    "    for _ in range(m - 1):\n",
    "        # 빈 linkedlist 생성\n",
    "        b = linkedlist()\n",
    "        # linkedlist 입력받기\n",
    "        for j in map(int, input().split()):\n",
    "            b.append(j)\n",
    "        # a에 b 삽입\n",
    "        a.insert(b)"
   ]
  },
  {
   "cell_type": "code",
   "execution_count": null,
   "metadata": {},
   "outputs": [],
   "source": [
    "temp \n",
    "new\n",
    "\n",
    "target\n",
    "node(1,asodlalskd)->node(2,alsdklas)"
   ]
  },
  {
   "cell_type": "code",
   "execution_count": null,
   "metadata": {},
   "outputs": [],
   "source": []
  }
 ],
 "metadata": {
  "kernelspec": {
   "display_name": "Python 3",
   "language": "python",
   "name": "python3"
  },
  "language_info": {
   "codemirror_mode": {
    "name": "ipython",
    "version": 3
   },
   "file_extension": ".py",
   "mimetype": "text/x-python",
   "name": "python",
   "nbconvert_exporter": "python",
   "pygments_lexer": "ipython3",
   "version": "3.7.6"
  }
 },
 "nbformat": 4,
 "nbformat_minor": 4
}
