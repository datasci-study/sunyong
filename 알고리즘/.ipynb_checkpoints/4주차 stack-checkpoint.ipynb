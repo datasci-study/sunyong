{
 "cells": [
  {
   "cell_type": "code",
   "execution_count": 2,
   "metadata": {},
   "outputs": [
    {
     "name": "stdin",
     "output_type": "stream",
     "text": [
      " 3\n",
      " 30\n"
     ]
    },
    {
     "ename": "AttributeError",
     "evalue": "'str' object has no attribute 'fomat'",
     "output_type": "error",
     "traceback": [
      "\u001b[1;31m---------------------------------------------------------------------------\u001b[0m",
      "\u001b[1;31mAttributeError\u001b[0m                            Traceback (most recent call last)",
      "\u001b[1;32m<ipython-input-2-8b97a7fcc69f>\u001b[0m in \u001b[0;36m<module>\u001b[1;34m\u001b[0m\n\u001b[0;32m      9\u001b[0m     \u001b[0mN\u001b[0m\u001b[1;33m=\u001b[0m\u001b[0mint\u001b[0m\u001b[1;33m(\u001b[0m\u001b[0minput\u001b[0m\u001b[1;33m(\u001b[0m\u001b[1;33m)\u001b[0m\u001b[1;33m)\u001b[0m\u001b[1;33m//\u001b[0m\u001b[1;36m10\u001b[0m\u001b[1;33m\u001b[0m\u001b[1;33m\u001b[0m\u001b[0m\n\u001b[0;32m     10\u001b[0m     \u001b[0mresult\u001b[0m\u001b[1;33m=\u001b[0m\u001b[0mpaper\u001b[0m\u001b[1;33m(\u001b[0m\u001b[0mN\u001b[0m\u001b[1;33m)\u001b[0m\u001b[1;33m\u001b[0m\u001b[1;33m\u001b[0m\u001b[0m\n\u001b[1;32m---> 11\u001b[1;33m     \u001b[0mprint\u001b[0m\u001b[1;33m(\u001b[0m\u001b[1;34m\"#{0} {1}\"\u001b[0m\u001b[1;33m.\u001b[0m\u001b[0mfomat\u001b[0m\u001b[1;33m(\u001b[0m\u001b[0mtest_case\u001b[0m\u001b[1;33m,\u001b[0m\u001b[0mresult\u001b[0m\u001b[1;33m)\u001b[0m\u001b[1;33m)\u001b[0m\u001b[1;33m\u001b[0m\u001b[1;33m\u001b[0m\u001b[0m\n\u001b[0m",
      "\u001b[1;31mAttributeError\u001b[0m: 'str' object has no attribute 'fomat'"
     ]
    }
   ],
   "source": [
    "'''어린이 알고리즘 교실의 선생님은 경우의 수 놀이를 위해, 그림처럼 가로x세로 길이가 10x20, 20x20인 직사각형 종이를 잔뜩 준비했다.\n",
    "\n",
    "   \n",
    "\n",
    "\n",
    "그리고 교실 바닥에 20xN 크기의 직사각형을 테이프로 표시하고, 이 안에 준비한 종이를 빈틈없이 붙이는 방법을 찾아보려고 한다. N이 30인 경우 다음 그림처럼 종이를 붙일 수 있다.\n",
    "\n",
    "\n",
    "\n",
    "\n",
    "\n",
    "10의 배수인 N이 주어졌을 때, 종이를 붙이는 모든 경우를 찾으려면 테이프로 만든 표시한 영역을 몇 개나 만들어야 되는지 계산하는 프로그램을 만드시오. 직사각형 종이가 모자라는 경우는 없다.\n",
    "\n",
    "\n",
    "[입력]\n",
    "\n",
    "첫 줄에 테스트 케이스 개수 T가 주어진다.  1≤T≤50\n",
    "다음 줄부터 테스트 케이스 별로 N이 주어진다. 10≤N≤300, N은 10의 배수\n",
    "\n",
    "[출력]\n",
    "\n",
    "각 줄마다 \"#T\" (T는 테스트 케이스 번호)를 출력한 뒤, 답을 출력한다.\n",
    "3\n",
    "30\n",
    "50\n",
    "70\n",
    "'''\n",
    "\n",
    "def paper(n):\n",
    "    if n==1:\n",
    "        return 1\n",
    "    elif n==2:\n",
    "        return 3\n",
    "    return paper(n-1) + (2*paper(n-2))\n",
    " \n",
    "T= int(input())\n",
    "for t in range(1,T+1):\n",
    "    n= int(input())//10\n",
    "    print(\"#{} {}\".format(t,paper(n)))\n",
    " "
   ]
  },
  {
   "cell_type": "code",
   "execution_count": 25,
   "metadata": {},
   "outputs": [
    {
     "name": "stdin",
     "output_type": "stream",
     "text": [
      " 1\n",
      " print('#{} {}'.format(tc, find())\n"
     ]
    },
    {
     "name": "stdout",
     "output_type": "stream",
     "text": [
      "['p', 'r', 'i', 'n', 't', '(', \"'\", '#', '{', '}', ' ', '{', '}', \"'\", '.', 'f', 'o', 'r', 'm', 'a', 't', '(', 't', 'c', ',', ' ', 'f', 'i', 'n', 'd', '(', ')', ')']\n",
      "['(']\n",
      "['(', '{']\n",
      "['(', '{']\n",
      "['(', '(']\n",
      "['(', '(', '(']\n",
      "#1 0\n"
     ]
    }
   ],
   "source": [
    "T=int(input())\n",
    "for test_case in range(1,T+1):\n",
    "    check=list(input())\n",
    "    check_list=[]\n",
    "    result=1\n",
    "    a={\"{\":\"}\",\"(\":\")\",\"[\":\"]\"}\n",
    "    \n",
    "    for i in check:\n",
    "        if i in a :\n",
    "            check_list.append(i)\n",
    "        if i in a.values():\n",
    "            if a[check_list.pop()]!=i:\n",
    "                result=0\n",
    "                break\n",
    "    if len(check_list)!=0:\n",
    "        result=0\n",
    "            \n",
    "    print(\"#{0} {1}\".format(test_case,result))\n",
    "                \n",
    "            \n",
    "                \n",
    "            \n",
    "        \n",
    "        "
   ]
  },
  {
   "cell_type": "code",
   "execution_count": 20,
   "metadata": {},
   "outputs": [
    {
     "data": {
      "text/plain": [
       "'}'"
      ]
     },
     "execution_count": 20,
     "metadata": {},
     "output_type": "execute_result"
    }
   ],
   "source": [
    "a={\"{\":\"}\",\"(\":\")\",\"[\":\"]\"}\n",
    "a[\"{\"]\n"
   ]
  },
  {
   "cell_type": "code",
   "execution_count": null,
   "metadata": {},
   "outputs": [],
   "source": []
  }
 ],
 "metadata": {
  "kernelspec": {
   "display_name": "Python 3",
   "language": "python",
   "name": "python3"
  },
  "language_info": {
   "codemirror_mode": {
    "name": "ipython",
    "version": 3
   },
   "file_extension": ".py",
   "mimetype": "text/x-python",
   "name": "python",
   "nbconvert_exporter": "python",
   "pygments_lexer": "ipython3",
   "version": "3.7.6"
  }
 },
 "nbformat": 4,
 "nbformat_minor": 4
}
