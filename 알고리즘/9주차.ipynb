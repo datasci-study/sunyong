{
 "cells": [
  {
   "cell_type": "code",
   "execution_count": null,
   "metadata": {},
   "outputs": [
    {
     "name": "stdin",
     "output_type": "stream",
     "text": [
      " 3\n",
      " 5\n",
      " 13101\n",
      " 10101\n",
      " 10101\n",
      " 10101\n",
      " 10021\n"
     ]
    },
    {
     "name": "stdout",
     "output_type": "stream",
     "text": [
      "#1 9\n"
     ]
    },
    {
     "name": "stdin",
     "output_type": "stream",
     "text": [
      " 5\n",
      " 00013\n",
      " 01110\n",
      " 21000\n",
      " 01111\n",
      " 00000\n"
     ]
    }
   ],
   "source": [
    "'''NxN 크기의 미로에서 출발지 목적지가 주어진다.\n",
    "\n",
    "이때 최소 몇 개의 칸을 지나면 출발지에서 도착지에 다다를 수 있는지 알아내는 프로그램을 작성하시오.\n",
    "\n",
    "경로가 있는 경우 출발에서 도착까지 가는데 지나야 하는 최소한의 칸 수를, 경로가 없는 경우 0을 출력한다.\n",
    "\n",
    "다음은 5x5 미로의 예이다. 1은 벽, 0은 통로를 나타내며 미로 밖으로 벗어나서는 안된다.\n",
    "\n",
    "13101\n",
    "10101\n",
    "10101\n",
    "10101\n",
    "10021\n",
    "\n",
    "마지막 줄의 2에서 출발해서 0인 통로를 따라 이동하면 맨 윗줄의 3에 5개의 칸을 지나 도착할 수 있다.\n",
    "\n",
    "\n",
    "[입력]\n",
    "\n",
    "첫 줄에 테스트 케이스 개수 T가 주어진다.  1<=T<=50\n",
    "\n",
    "다음 줄부터 테스트 케이스의 별로 미로의 크기 N과 N개의 줄에 걸쳐 미로의 통로와 벽에 대한 정보가 주어진다. 5<=N<=100\n",
    "\n",
    "0은 통로, 1은 벽, 2는 출발, 3은 도착이다.\n",
    "\n",
    "[출력]\n",
    "\n",
    "각 줄마다 \"#T\" (T는 테스트 케이스 번호)를 출력한 뒤, 답을 출력한다.\n",
    "\n",
    "3\n",
    "5\n",
    "13101\n",
    "10101\n",
    "10101\n",
    "10101\n",
    "10021\n",
    "5\n",
    "10031\n",
    "10111\n",
    "10101\n",
    "10101\n",
    "12001\n",
    "5\n",
    "00013\n",
    "01110\n",
    "21000\n",
    "01111\n",
    "00000\n",
    "'''\n",
    "import queue\n",
    "def iswall(y, x):\n",
    "    if y < 0 or x < 0 or y >= N or x >= N:\n",
    "        return True\n",
    "    return False\n",
    " \n",
    "T = int(input())\n",
    "for t in range(1, T+1):\n",
    "    N = int(input())\n",
    "    map_list = [list(map(int, list(input()))) for _ in range(N)]\n",
    "    x, y = 0, 0\n",
    "    result = 0\n",
    "    count=0\n",
    "    #2가 있는 위치찾기\n",
    "    for i in range(N):\n",
    "        if 2 in map_list[i]:\n",
    "            x = map_list[i].index(2)#2가 있는 index를 반환한다.\n",
    "            y = i\n",
    "            break\n",
    "    #스택에 시작위치 넣어주기\n",
    "    q=queue.Queue()\n",
    "    q.put((y,x))\n",
    "    #스택이 빌때까지 반복한다.\n",
    "    while q:\n",
    "        #스택에 있는값을 꺼내서\n",
    "        y, x = q.get()\n",
    "        #현재위치는 갔다고 변경->1로 변경해서 막힌것으로 처리\n",
    "        map_list[y][x] = 1\n",
    "        #이동할 4방향을 검사한다.\n",
    "        for _y, _x in [(1, 0), (-1, 0), (0, 1), (0, -1)]:\n",
    "            dy = y + _y\n",
    "            dx = x + _x\n",
    "            #가는길이 바운더리 벗어나면 다음길로\n",
    "            if iswall(dy, dx):\n",
    "                continue\n",
    "            #가는곳이 3이면 도착지점\n",
    "            if map_list[dy][dx] == 3:\n",
    "                #결과변경후 반복문 종료\n",
    "                result = count\n",
    "                break\n",
    "            #0이라면 갈수있는 장소를 스택에 추가\n",
    "            elif map_list[dy][dx]==0:\n",
    "                count+=1\n",
    "                q.put((dy,dx))\n",
    "        else:\n",
    "            #브레이크 없이 끝났다면 다음것으로 진행\n",
    "            continue\n",
    "        #브레이크 문으로 여기까지 왔다면 반복 멈추기\n",
    "        break\n",
    "    #결과출력\n",
    "    print('#{} {}'.format(t, result))"
   ]
  },
  {
   "cell_type": "code",
   "execution_count": null,
   "metadata": {},
   "outputs": [],
   "source": []
  },
  {
   "cell_type": "code",
   "execution_count": 9,
   "metadata": {},
   "outputs": [
    {
     "name": "stdin",
     "output_type": "stream",
     "text": [
      " 3\n",
      " 3 5\n",
      " 7 2 6 5 3\n"
     ]
    },
    {
     "name": "stdout",
     "output_type": "stream",
     "text": [
      "#1 4\n"
     ]
    },
    {
     "name": "stdin",
     "output_type": "stream",
     "text": [
      " 5 10\n",
      " 5 9 3 9 9 2 5 8 7 1\n"
     ]
    },
    {
     "name": "stdout",
     "output_type": "stream",
     "text": [
      "#2 8\n"
     ]
    },
    {
     "name": "stdin",
     "output_type": "stream",
     "text": [
      " 5 10\n",
      " 20 4 5 7 3 15 2 1 2 2\n"
     ]
    },
    {
     "name": "stdout",
     "output_type": "stream",
     "text": [
      "#3 6\n"
     ]
    }
   ],
   "source": [
    "'''N개의 피자를 동시에 구울 수 있는 화덕이 있다. 피자는 치즈가 모두 녹으면 화덕에서 꺼내며, 치즈의 양은 피자마다 다르다.\n",
    "\n",
    "1번부터 M번까지 M개의 피자를 순서대로 화덕에 넣을 때, 치즈의 양에 따라 녹는 시간이 다르기 때문에 꺼내지는 순서는 바뀔 수 있다.\n",
    "\n",
    "주어진 조건에 따라 피자를 구울 때, 화덕에 가장 마지막까지 남아있는 피자 번호를 알아내는 프로그램을 작성하시오.\n",
    "\n",
    "- 피자는 1번위치에서 넣거나 뺄 수 있다.\n",
    "- 화덕 내부의 피자받침은 천천히 회전해서 1번에서 잠시 꺼내 치즈를 확인하고 다시 같은 자리에 넣을 수 있다.\n",
    "- M개의 피자에 처음 뿌려진 치즈의 양이 주어지고, 화덕을 한 바퀴 돌 때 녹지않은 치즈의 양은 반으로 줄어든다. 이전 치즈의 양을 C라고 하면 다시 꺼냈을 때 C//2로 줄어든다.\n",
    "- 치즈가 모두 녹아 0이 되면 화덕에서 꺼내고, 바로 그 자리에 남은 피자를 순서대로 넣는다.\n",
    "\n",
    "\n",
    "\n",
    "첫 줄에 테스트 케이스 개수 T가 주어진다.  1<=T<=50\n",
    "\n",
    "다음 줄부터 테스트 케이스의 첫 줄에 화덕의 크기 N과 피자 개수 M이 주어지고, 다음 줄에 M개의 피자에 뿌려진 치즈의 양을 나타내는 Ci가 주어진다.\n",
    "\n",
    "3<=N<=20, N<=M<=100, 1<=Ci<=20\n",
    "\n",
    "입력\n",
    "3\n",
    "3 5\n",
    "7 2 6 5 3\n",
    "5 10\n",
    "5 9 3 9 9 2 5 8 7 1\n",
    "5 10\n",
    "20 4 5 7 3 15 2 1 2 2\n",
    "'''\n",
    "T = int(input())\n",
    "for t in range(1, T+1):\n",
    "    n,m = map(int,input().split())\n",
    "    ch=input().split()\n",
    "    pizza=[(i+1,int(ch[i])) for i in range(m)]\n",
    "    start=pizza[:n]\n",
    "    end=pizza[n:]\n",
    "    while len(start)!=1:\n",
    "        num,cheese=start.pop(0)\n",
    "        cheese//=2\n",
    "        if cheese:\n",
    "            start.append((num,cheese))\n",
    "        else:\n",
    "            if end: \n",
    "                start.append(end.pop(0))\n",
    "    print('#{} {}'.format(t, start.pop()[0]))"
   ]
  },
  {
   "cell_type": "code",
   "execution_count": null,
   "metadata": {},
   "outputs": [],
   "source": []
  }
 ],
 "metadata": {
  "kernelspec": {
   "display_name": "Python 3",
   "language": "python",
   "name": "python3"
  },
  "language_info": {
   "codemirror_mode": {
    "name": "ipython",
    "version": 3
   },
   "file_extension": ".py",
   "mimetype": "text/x-python",
   "name": "python",
   "nbconvert_exporter": "python",
   "pygments_lexer": "ipython3",
   "version": "3.7.6"
  }
 },
 "nbformat": 4,
 "nbformat_minor": 4
}
