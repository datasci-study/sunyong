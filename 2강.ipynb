{
 "cells": [
  {
   "cell_type": "code",
   "execution_count": 5,
   "metadata": {},
   "outputs": [
    {
     "name": "stdin",
     "output_type": "stream",
     "text": [
      " 3\n",
      " 2\n",
      " 2 2 4 4 1\n",
      " 3 3 6 6 2\n"
     ]
    },
    {
     "name": "stdout",
     "output_type": "stream",
     "text": [
      "#1 4\n"
     ]
    },
    {
     "name": "stdin",
     "output_type": "stream",
     "text": [
      " 3\n",
      " 1 2 3 3 1\n",
      " 3 6 6 8 1\n",
      " 2 3 5 6 2\n"
     ]
    },
    {
     "name": "stdout",
     "output_type": "stream",
     "text": [
      "#2 5\n"
     ]
    },
    {
     "name": "stdin",
     "output_type": "stream",
     "text": [
      " 3 \n",
      " 1 4 8 5 1\n",
      " 1 8 3 9 1\n",
      " 3 2 5 8 2\n"
     ]
    },
    {
     "name": "stdout",
     "output_type": "stream",
     "text": [
      "#3 7\n"
     ]
    }
   ],
   "source": [
    "#1번\n",
    "'''그림과 같이 인덱스가 있는 10x10 격자에 빨간색과 파란색을 칠하려고 한다.\n",
    "\n",
    "N개의 영역에 대해 왼쪽 위와 오른쪽 아래 모서리 인덱스, 칠할 색상이 주어질 때, 칠이 끝난 후 색이 겹쳐 보라색이 된 칸 수를 구하는 프로그램을 만드시오.\n",
    "\n",
    "주어진 정보에서 같은 색인 영역은 겹치지 않는다.\n",
    "\n",
    "\n",
    "예를 들어 2개의 색칠 영역을 갖는 위 그림에 대한 색칠 정보이다.\n",
    "\n",
    "2\n",
    "\n",
    "2 2 4 4 1  ( [2,2] 부터 [4,4] 까지 color 1 (빨강) 으로 칠한다 )\n",
    "\n",
    "3 3 6 6 2 ( [3,3] 부터 [6,6] 까지 color 2 (파랑) 으로 칠한다 )\n",
    "\n",
    " \n",
    "\n",
    "[입력]\n",
    " \n",
    "\n",
    "첫 줄에 테스트 케이스 개수 T가 주어진다.   ( 1 ≤ T ≤ 50 )\n",
    "\n",
    "다음 줄부터 테스트케이스의 첫 줄에 칠할 영역의 개수 N이 주어진다. ( 2 ≤ N ≤ 30 )\n",
    "\n",
    "다음 줄에 왼쪽 위 모서리 인덱스 r1, c1, 오른쪽 아래 모서리 r2, c2와 색상 정보 color가 주어진다. ( 0 ≤ r1, c1, r2, c2 ≤ 9 )\n",
    "\n",
    "color = 1 (빨강), color = 2 (파랑)\n",
    "\n",
    " \n",
    "\n",
    "[출력]\n",
    " \n",
    "\n",
    "각 줄마다 \"#T\" (T는 테스트 케이스 번호)를 출력한 뒤, 답을 출력한다.\n",
    "\n",
    "3\n",
    "2\n",
    "2 2 4 4 1\n",
    "3 3 6 6 2\n",
    "3\n",
    "1 2 3 3 1\n",
    "3 6 6 8 1\n",
    "2 3 5 6 2\n",
    "3\n",
    "1 4 8 5 1\n",
    "1 8 3 9 1\n",
    "3 2 5 8 2'''\n",
    "\n",
    "T = int(input())\n",
    "\n",
    "for test_case in range(1, T + 1):\n",
    "    space=[[0 for _ in range(10)] for _ in range(10)]#색칠할 공간 만들어주기\n",
    "    count=0#색칠한 영역의 수 카운트\n",
    "    N=int(input())\n",
    "    for i in range(N):\n",
    "        r1,c1,r2,c2,color=map(int,input().split())\n",
    "        for r in range(r1,r2+1):#행의 범위 설정\n",
    "            for c in range(c1,c2+1):#열의 범위 설정\n",
    "                if color==1:#색칠하는 색이 빨강일 경우\n",
    "                    if space[r][c]==0:\n",
    "                        space[r][c]=1\n",
    "                    if space[r][c]==2:#원래 공간의 색깔이 파랑일 경우\n",
    "                        space[r][c]=3#보라색으로 색칠됨\n",
    "                        count+=1\n",
    "                if color==2:#색칠하는 색이 파랑일 경우\n",
    "                    if space[r][c]==0:\n",
    "                        space[r][c]=2\n",
    "                    if space[r][c]==1:\n",
    "                        space[r][c]=3\n",
    "                        count+=1\n",
    "    print(\"#{0} {1}\".format(test_case,count))\n",
    "                    \n",
    "                    \n",
    "                    \n",
    "        \n",
    "    \n",
    "    \n",
    "    "
   ]
  },
  {
   "cell_type": "code",
   "execution_count": 1,
   "metadata": {},
   "outputs": [
    {
     "name": "stdin",
     "output_type": "stream",
     "text": [
      " 3\n",
      " 3 6\n"
     ]
    },
    {
     "name": "stdout",
     "output_type": "stream",
     "text": [
      "#1 1\n"
     ]
    },
    {
     "name": "stdin",
     "output_type": "stream",
     "text": [
      " 5 10\n"
     ]
    },
    {
     "name": "stdout",
     "output_type": "stream",
     "text": [
      "#2 0\n"
     ]
    },
    {
     "name": "stdin",
     "output_type": "stream",
     "text": [
      " 5 15\n"
     ]
    },
    {
     "name": "stdout",
     "output_type": "stream",
     "text": [
      "#3 1\n"
     ]
    }
   ],
   "source": [
    "#2번\n",
    "'''1부터 12까지의 숫자를 원소로 가진 집합 A가 있다. 집합 A의 부분 집합 중 N개의 원소를 갖고 있고, 원소의 합이 K인 부분집합의 개수를 출력하는 프로그램을 작성하시오.\n",
    "\n",
    "해당하는 부분집합이 없는 경우 0을 출력한다. 모든 부분 집합을 만들어 답을 찾아도 된다.\n",
    " \n",
    "\n",
    "예를 들어 N = 3, K = 6 경우, 부분집합은 { 1, 2, 3 } 경우 1가지가 존재한다.\n",
    "\n",
    " \n",
    " \n",
    "\n",
    "[입력]\n",
    " \n",
    "\n",
    "첫 줄에 테스트 케이스 개수 T가 주어진다.  ( 1 ≤ T ≤ 50 )\n",
    " \n",
    "\n",
    "테스트 케이스 별로 부분집합 원소의 수 N과 부분 집합의 합 K가 여백을 두고 주어진다. ( 1 ≤ N ≤ 12, 1 ≤ K ≤ 100 )\n",
    "\n",
    " \n",
    "\n",
    "[출력]\n",
    " \n",
    "\n",
    "각 줄마다 \"#T\" (T는 테스트 케이스 번호)를 출력한 뒤, 답을 출력한다.\n",
    "'''\n",
    "\n",
    "T=int(input())\n",
    "\n",
    "for test_case in range(1,T+1):\n",
    "    N,K=map(int,input().split())\n",
    "    A=[i for i in range(1,13)]\n",
    "    lst=[]#전체 부분집합 리스트\n",
    "    n=len(A)\n",
    "    count=0\n",
    "    for i in range(1<<n):\n",
    "        c_list=[]#부분집합의 리스트\n",
    "        for j in range(n):\n",
    "            if i&(1<<j):\n",
    "                c_list.append(A[j])\n",
    "        lst.append(c_list)\n",
    "    n_list=[]#N개의 원소를 갖고 있는 부분집합의 리스트\n",
    "    for i in lst:\n",
    "        if len(i)==N:\n",
    "            n_list.append(i)\n",
    "    for i in n_list:\n",
    "        result=0\n",
    "        for j in range(0,len(i)):#합구하기\n",
    "            result+=i[j]\n",
    "\n",
    "        if result==K:\n",
    "            count+=1\n",
    "        \n",
    "        \n",
    "    print(\"#{0} {1}\".format(test_case,count))\n"
   ]
  },
  {
   "cell_type": "code",
   "execution_count": null,
   "metadata": {},
   "outputs": [],
   "source": [
    "#3번\n",
    "\n",
    "T=int(input())\n",
    "for test_case in range(1,T+1):\n",
    "    p,a,b=map(int,input().split())\n",
    "    "
   ]
  }
 ],
 "metadata": {
  "kernelspec": {
   "display_name": "Python 3",
   "language": "python",
   "name": "python3"
  },
  "language_info": {
   "codemirror_mode": {
    "name": "ipython",
    "version": 3
   },
   "file_extension": ".py",
   "mimetype": "text/x-python",
   "name": "python",
   "nbconvert_exporter": "python",
   "pygments_lexer": "ipython3",
   "version": "3.7.6"
  }
 },
 "nbformat": 4,
 "nbformat_minor": 4
}
