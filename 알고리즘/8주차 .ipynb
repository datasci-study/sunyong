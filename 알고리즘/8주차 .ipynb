{
 "cells": [
  {
   "cell_type": "code",
   "execution_count": 32,
   "metadata": {},
   "outputs": [
    {
     "name": "stdin",
     "output_type": "stream",
     "text": [
      " 3\n",
      " 3\n",
      " 2 1 2\n",
      " 5 8 5\n",
      " 7 2 2\n"
     ]
    },
    {
     "name": "stdout",
     "output_type": "stream",
     "text": [
      "#1 8\n"
     ]
    },
    {
     "name": "stdin",
     "output_type": "stream",
     "text": [
      " 3\n",
      " 9 4 7\n",
      " 8 6 5\n",
      " 5 3 7\n"
     ]
    },
    {
     "name": "stdout",
     "output_type": "stream",
     "text": [
      "#2 14\n"
     ]
    },
    {
     "name": "stdin",
     "output_type": "stream",
     "text": [
      " 5\n",
      " 5 2 1 1 9\n",
      " 3 3 8 3 1\n",
      " 9 2 8 8 6\n",
      " 1 5 7 8 3\n",
      " 5 5 4 6 8\n"
     ]
    },
    {
     "name": "stdout",
     "output_type": "stream",
     "text": [
      "#3 9\n"
     ]
    }
   ],
   "source": [
    "'''\n",
    "최소 합\n",
    "NxN 배열에 숫자가 들어있다. 한 줄에서 하나씩 N개의 숫자를 골라 합이 최소가 되도록 하려고 한다. 단, 세로로 같은 줄에서 두 개 이상의 숫자를 고를 수 없다.\n",
    "\n",
    "조건에 맞게 숫자를 골랐을 때의 최소 합을 출력하는 프로그램을 만드시오.\n",
    "\n",
    "[입력]\n",
    " \n",
    "\n",
    "첫 줄에 테스트 케이스 개수 T가 주어진다.  1≤T≤50\n",
    " \n",
    "\n",
    "다음 줄부터 테스트 케이스의 첫 줄에 숫자 N이 주어지고, 이후 N개씩 N줄에 걸쳐 10보다 작은 자연수가 주어진다. 3≤N≤10\n",
    "\n",
    " \n",
    "\n",
    "[출력]\n",
    " \n",
    "\n",
    "각 줄마다 \"#T\" (T는 테스트 케이스 번호)를 출력한 뒤, 합계를 출력한다.\n",
    "\n",
    "입력\n",
    "3\n",
    "3\n",
    "2 1 2\n",
    "5 8 5\n",
    "7 2 2\n",
    "3\n",
    "9 4 7\n",
    "8 6 5\n",
    "5 3 7\n",
    "5\n",
    "5 2 1 1 9\n",
    "3 3 8 3 1\n",
    "9 2 8 8 6\n",
    "1 5 7 8 3\n",
    "5 5 4 6 8'''\n",
    "from itertools import permutations\n",
    "T=int(input())\n",
    "for test_case in range(1,T+1):\n",
    "    n=int(input())\n",
    "    array_list = [list(map(int, list(input().split()))) for _ in range(n)]\n",
    "    num_list=list(permutations(list(range(0,n)),n))\n",
    "    result_list=[]\n",
    "    for num in num_list:\n",
    "        re=0\n",
    "        for i,j in zip(range(0,n),num):\n",
    "            re+=array_list[i][j]\n",
    "        result_list.append(re)\n",
    "    print('#{} {}'.format(test_case,min(result_list)))\n"
   ]
  },
  {
   "cell_type": "code",
   "execution_count": 36,
   "metadata": {},
   "outputs": [
    {
     "name": "stdin",
     "output_type": "stream",
     "text": [
      " 3\n",
      " 3 10\n",
      " 5527 731 31274\n"
     ]
    },
    {
     "name": "stdout",
     "output_type": "stream",
     "text": [
      "#1 731\n"
     ]
    },
    {
     "name": "stdin",
     "output_type": "stream",
     "text": [
      " 5 12\n",
      " 18140 14618 18641 22536 23097\n"
     ]
    },
    {
     "name": "stdout",
     "output_type": "stream",
     "text": [
      "#2 18641\n"
     ]
    },
    {
     "name": "stdin",
     "output_type": "stream",
     "text": [
      " 10 23\n",
      " 17236 31594 29094 2412 4316 5044 28515 24737 11578 7907\n"
     ]
    },
    {
     "name": "stdout",
     "output_type": "stream",
     "text": [
      "#3 2412\n"
     ]
    }
   ],
   "source": [
    "# queue 6일차 회전\n",
    "'''\n",
    "N개의 숫자로 이루어진 수열이 주어진다. 맨 앞의 숫자를 맨 뒤로 보내는 작업을 M번 했을 때, 수열의 맨 앞에 있는 숫자를 출력하는 프로그램을 만드시오.\n",
    "\n",
    "\n",
    "[입력]\n",
    "\n",
    "첫 줄에 테스트 케이스 개수 T가 주어진다.  1<=T<=50\n",
    "\n",
    "다음 줄부터 테스트 케이스의 첫 줄에 N과 M이 주어지고, 다음 줄에 10억 이하의 자연수 N개가 주어진다. 3<=N<=20, N<=M<=1000,\n",
    "\n",
    "[출력]\n",
    "\n",
    "각 줄마다 \"#T\" (T는 테스트 케이스 번호)를 출력한 뒤, 번호를 출력한다.\n",
    " \n",
    "\n",
    "입력\n",
    "3\n",
    "3 10\n",
    "5527 731 31274\n",
    "5 12\n",
    "18140 14618 18641 22536 23097\n",
    "10 23\n",
    "17236 31594 29094 2412 4316 5044 28515 24737 11578 7907'''\n",
    "import queue\n",
    "T=int(input())\n",
    "for test_case in range(1,T+1):\n",
    "    n,m=map(int,input().split())\n",
    "    num=list(map(int,input().split()))\n",
    "    action=m%n#m%n만큼만 움직이면 된다.\n",
    "    q=queue.Queue()\n",
    "    for i in num:# q에 숫자들 할당하기\n",
    "        q.put(i)\n",
    "    j=0\n",
    "    while j<action:\n",
    "        a=q.get()\n",
    "        q.put(a)\n",
    "        j+=1\n",
    "    print('#{} {}'.format(test_case,q.get()))"
   ]
  },
  {
   "cell_type": "code",
   "execution_count": null,
   "metadata": {},
   "outputs": [],
   "source": []
  }
 ],
 "metadata": {
  "kernelspec": {
   "display_name": "Python 3",
   "language": "python",
   "name": "python3"
  },
  "language_info": {
   "codemirror_mode": {
    "name": "ipython",
    "version": 3
   },
   "file_extension": ".py",
   "mimetype": "text/x-python",
   "name": "python",
   "nbconvert_exporter": "python",
   "pygments_lexer": "ipython3",
   "version": "3.7.6"
  }
 },
 "nbformat": 4,
 "nbformat_minor": 4
}
