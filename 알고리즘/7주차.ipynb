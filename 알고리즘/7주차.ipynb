{
 "cells": [
  {
   "cell_type": "code",
   "execution_count": 20,
   "metadata": {},
   "outputs": [
    {
     "name": "stdin",
     "output_type": "stream",
     "text": [
      " 3\n",
      " 4\n",
      " 1 3 2 1\n"
     ]
    },
    {
     "name": "stdout",
     "output_type": "stream",
     "text": [
      "#1 3\n"
     ]
    },
    {
     "name": "stdin",
     "output_type": "stream",
     "text": [
      " 6\n",
      " 2 1 1 2 3 3\n"
     ]
    },
    {
     "name": "stdout",
     "output_type": "stream",
     "text": [
      "#2 5\n"
     ]
    },
    {
     "name": "stdin",
     "output_type": "stream",
     "text": [
      " 7\n",
      " 1 3 3 3 1 1 3\n"
     ]
    },
    {
     "name": "stdout",
     "output_type": "stream",
     "text": [
      "#3 1\n"
     ]
    }
   ],
   "source": [
    "'''\n",
    "사다리 게임이 지겨워진 알고리즘 반 학생들이 새로운 게임을 만들었다. 가위바위보가 그려진 카드를 이용해 토너먼트로 한 명을 뽑는 것이다. 게임 룰은 다음과 같다.\n",
    " \n",
    "\n",
    "1번부터 N번까지 N명의 학생이 N장의 카드를 나눠 갖는다. 전체를 두 개의 그룹으로 나누고, 그룹의 승자끼리 카드를 비교해서 이긴 사람이 최종 승자가 된다.\n",
    "\n",
    "그룹의 승자는 그룹 내부를 다시 두 그룹으로 나눠 뽑는데, i번부터 j번까지 속한 그룹은 파이썬 연산으로 다음처럼 두개로 나눈다.\n",
    "\n",
    "\n",
    "\n",
    "두 그룹이 각각 1명이 되면 양 쪽의 카드를 비교해 승자를 가리고, 다시 더 큰 그룹의 승자를 뽑는 방식이다.\n",
    "\n",
    "다음은 4명이 카드를 비교하는 경우로, 숫자 1은 가위, 2는 바위, 3은 보를 나타낸다. 만약 같은 카드인 경우 편의상 번호가 작은 쪽을 승자로 하고, 처음 선택한 카드는 바꾸지 않는다.\n",
    " \n",
    "\n",
    "\n",
    "N명이 학생들이 카드를 골랐을 때 1등을 찾는 프로그램을 만드시오.\n",
    "\n",
    "\n",
    " \n",
    "\n",
    "[입력]\n",
    " \n",
    "\n",
    "첫 줄에 테스트 케이스 개수 T가 주어진다.  1≤T≤50\n",
    " \n",
    "\n",
    "다음 줄부터 테스트 케이스의 별로 인원수 N과 다음 줄에 N명이 고른 카드가 번호순으로 주어진다. 4≤N≤100\n",
    "\n",
    "카드의 숫자는 각각 1은 가위, 2는 바위, 3은 보를 나타낸다.\n",
    "\n",
    " \n",
    "\n",
    "[출력]\n",
    " \n",
    "\n",
    "각 줄마다 \"#T\" (T는 테스트 케이스 번호)를 출력한 뒤, 1등의 번호를 출력한다.\n",
    "\n",
    "3\n",
    "4\n",
    "1 3 2 1\n",
    "6\n",
    "2 1 1 2 3 3\n",
    "7\n",
    "1 3 3 3 1 1 3\n",
    "'''\n",
    "def win(a,b):\n",
    "    if (card[a-1]==1 and card[b-1]==3) or (card[a-1]==1 and card[b-1]==1) or (card[a-1]==2 and card[b-1]==1) or (card[a-1]==2 and card[b-1]==2) or (card[a-1]==3 and card[b-1]==2) or (card[a-1]==3 and card[b-1]==3): \n",
    "        return a\n",
    "    else: \n",
    "        return b\n",
    "        \n",
    "def match(start,end):\n",
    "    if start==end:\n",
    "        return start\n",
    "    first_value=match(start,(start+end)//2)\n",
    "    second_value=match((start+end)//2+1,end)\n",
    "    return win(first_value,second_value)\n",
    "\n",
    "T=int(input())\n",
    "for test_case in range(1,T+1):\n",
    "    N=int(input())\n",
    "    card=list(map(int,input().split()))\n",
    "    start=1\n",
    "    end=N\n",
    "    print('#{0} {1}'.format(test_case,match(start,end)))"
   ]
  },
  {
   "cell_type": "code",
   "execution_count": null,
   "metadata": {},
   "outputs": [],
   "source": []
  }
 ],
 "metadata": {
  "kernelspec": {
   "display_name": "Python 3",
   "language": "python",
   "name": "python3"
  },
  "language_info": {
   "codemirror_mode": {
    "name": "ipython",
    "version": 3
   },
   "file_extension": ".py",
   "mimetype": "text/x-python",
   "name": "python",
   "nbconvert_exporter": "python",
   "pygments_lexer": "ipython3",
   "version": "3.7.6"
  }
 },
 "nbformat": 4,
 "nbformat_minor": 4
}
