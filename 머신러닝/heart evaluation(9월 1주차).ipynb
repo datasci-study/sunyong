{
 "cells": [
  {
   "cell_type": "code",
   "execution_count": 25,
   "metadata": {},
   "outputs": [],
   "source": [
    "import pandas as pd\n",
    "import numpy as np\n",
    "from sklearn.tree import DecisionTreeClassifier\n",
    "from sklearn.metrics import accuracy_score\n",
    "from sklearn.metrics import confusion_matrix\n",
    "from sklearn.metrics import precision_recall_curve\n",
    "from sklearn.metrics import average_precision_score\n",
    "from sklearn.metrics import roc_curve\n",
    "from sklearn.metrics import roc_auc_score\n",
    "from sklearn.model_selection import cross_val_score,cross_validate\n",
    "from sklearn.metrics import f1_score\n",
    "from sklearn.model_selection import KFold\n",
    "from sklearn.model_selection import StratifiedKFold\n",
    "from sklearn.model_selection import GridSearchCV,train_test_split\n",
    "\n"
   ]
  },
  {
   "cell_type": "code",
   "execution_count": 12,
   "metadata": {},
   "outputs": [
    {
     "name": "stdout",
     "output_type": "stream",
     "text": [
      "   age  sex  cp  trestbps  chol  fbs  restecg  thalach  exang  oldpeak  slope  \\\n",
      "0   63    1   3       145   233    1        0      150      0      2.3      0   \n",
      "1   37    1   2       130   250    0        1      187      0      3.5      0   \n",
      "2   41    0   1       130   204    0        0      172      0      1.4      2   \n",
      "3   56    1   1       120   236    0        1      178      0      0.8      2   \n",
      "4   57    0   0       120   354    0        1      163      1      0.6      2   \n",
      "\n",
      "   ca  thal  target  \n",
      "0   0     1       1  \n",
      "1   0     2       1  \n",
      "2   0     2       1  \n",
      "3   0     2       1  \n",
      "4   0     2       1  \n",
      "(303, 14)\n"
     ]
    }
   ],
   "source": [
    "heart=pd.read_csv(\"heart.csv\")\n",
    "print(heart.head())\n",
    "print(heart.shape)"
   ]
  },
  {
   "cell_type": "code",
   "execution_count": 8,
   "metadata": {},
   "outputs": [
    {
     "data": {
      "text/plain": [
       "'age : 나이\\nsex : 성별(0 : 여성; 1 : 남성)\\ncp : 가슴통증 유형(0 = 증상 없음 ; 1 = 비전형적 협심증; 2 = 비협심증 통증; 3 = 전형적인 협심증)\\ntrestbps : 평시 혈압\\nchol : 혈중 콜레스테롤 농도\\nfbs : 공복시 혈당 > 120mg/dl(0 = False; 1 = True)\\nrestecg : 안정 심전도 결과(0 = 좌심실 비대; 1 = 정상; 2 = ST-T파 비정상)\\nthalach : 최대 심박수\\nexang : 협심증 유발 운동(0 = no; 1 = yes)\\nold peak : 비교적 안정되기까지 운동으로 유발되는 ST\\nslope : 최대 운동 ST segment의 기울기(0 = 하강; 1 = 평면; 2 = 상승)\\nca : 형광 투시된 주요 혈관의 수(0~3; 4 = NA)\\nthal : 0 = NA; 1 = 해결된 결함; 2 = 정상; 3 = 해결가능한 결함\\ntarget : 심장병 진단(0 = False; 1 = True)'"
      ]
     },
     "execution_count": 8,
     "metadata": {},
     "output_type": "execute_result"
    }
   ],
   "source": [
    "'''age : 나이\n",
    "sex : 성별(0 : 여성; 1 : 남성)\n",
    "cp : 가슴통증 유형(0 = 증상 없음 ; 1 = 비전형적 협심증; 2 = 비협심증 통증; 3 = 전형적인 협심증)\n",
    "trestbps : 평시 혈압\n",
    "chol : 혈중 콜레스테롤 농도\n",
    "fbs : 공복시 혈당 > 120mg/dl(0 = False; 1 = True)\n",
    "restecg : 안정 심전도 결과(0 = 좌심실 비대; 1 = 정상; 2 = ST-T파 비정상)\n",
    "thalach : 최대 심박수\n",
    "exang : 협심증 유발 운동(0 = no; 1 = yes)\n",
    "old peak : 비교적 안정되기까지 운동으로 유발되는 ST\n",
    "slope : 최대 운동 ST segment의 기울기(0 = 하강; 1 = 평면; 2 = 상승)\n",
    "ca : 형광 투시된 주요 혈관의 수(0~3; 4 = NA)\n",
    "thal : 0 = NA; 1 = 해결된 결함; 2 = 정상; 3 = 해결가능한 결함\n",
    "target : 심장병 진단(0 = False; 1 = True)'''"
   ]
  },
  {
   "cell_type": "code",
   "execution_count": 17,
   "metadata": {},
   "outputs": [
    {
     "data": {
      "text/plain": [
       "age         0\n",
       "sex         0\n",
       "cp          0\n",
       "trestbps    0\n",
       "chol        0\n",
       "fbs         0\n",
       "restecg     0\n",
       "thalach     0\n",
       "exang       0\n",
       "oldpeak     0\n",
       "slope       0\n",
       "ca          0\n",
       "thal        0\n",
       "target      0\n",
       "dtype: int64"
      ]
     },
     "execution_count": 17,
     "metadata": {},
     "output_type": "execute_result"
    }
   ],
   "source": [
    "heart.isnull().sum()# null값 없음"
   ]
  },
  {
   "cell_type": "code",
   "execution_count": 22,
   "metadata": {},
   "outputs": [],
   "source": [
    "heart_data=heart.drop(\"target\",axis=1)# target값만 지정해줌\n",
    "heart_target=heart[\"target\"]# feature값만 지정해줌"
   ]
  },
  {
   "cell_type": "code",
   "execution_count": 26,
   "metadata": {},
   "outputs": [
    {
     "name": "stdout",
     "output_type": "stream",
     "text": [
      "예측 정확도:0.7143\n"
     ]
    }
   ],
   "source": [
    "#train_test_split으로 나눠서 예측해본다\n",
    "dt_clf=DecisionTreeClassifier()\n",
    "x_train,x_test,y_train,y_test=train_test_split(heart_data,heart_target,\n",
    "                                               test_size=0.3,random_state=121)\n",
    "dt_clf.fit(x_train,y_train)\n",
    "pred=dt_clf.predict(x_test)\n",
    "print(\"예측 정확도:{0:.4f}\".format(accuracy_score(y_test,pred)))"
   ]
  },
  {
   "cell_type": "code",
   "execution_count": 27,
   "metadata": {},
   "outputs": [
    {
     "name": "stdout",
     "output_type": "stream",
     "text": [
      "1의 예측 정확도:0.7869\n",
      "2의 예측 정확도:0.7143\n",
      "3의 예측 정확도:0.7131\n"
     ]
    }
   ],
   "source": [
    "#예측 정확도가 낮아서 test_size를 조정해서 여러번 실행해봄\n",
    "size=[0.2,0.3,0.4]\n",
    "case=0\n",
    "for i in size:\n",
    "    case+=1\n",
    "    x_train,x_test,y_train,y_test=train_test_split(heart_data,heart_target,\n",
    "                                               test_size=i,random_state=121)\n",
    "    dt_clf.fit(x_train,y_train)\n",
    "    pred=dt_clf.predict(x_test)\n",
    "    print(\"{0}의 예측 정확도:{1:.4f}\".format(case,accuracy_score(y_test,pred)))\n",
    "    \n",
    "#0.2일 경우가 가장 정확도가 높았지만 대체로 낮은 예측률을 보여줌"
   ]
  },
  {
   "cell_type": "markdown",
   "metadata": {},
   "source": [
    "교차검증\n",
    "\n",
    "kfold"
   ]
  },
  {
   "cell_type": "code",
   "execution_count": 47,
   "metadata": {},
   "outputs": [
    {
     "name": "stdout",
     "output_type": "stream",
     "text": [
      "\n",
      "#1 교차 검증 정확도 :0.6436, 학습 데이터 크기: 202, 검증 데이터 크기: 101\n",
      "#1 검증 세트 인덱스:[  0   1   2   3   4   5   6   7   8   9  10  11  12  13  14  15  16  17\n",
      "  18  19  20  21  22  23  24  25  26  27  28  29  30  31  32  33  34  35\n",
      "  36  37  38  39  40  41  42  43  44  45  46  47  48  49  50  51  52  53\n",
      "  54  55  56  57  58  59  60  61  62  63  64  65  66  67  68  69  70  71\n",
      "  72  73  74  75  76  77  78  79  80  81  82  83  84  85  86  87  88  89\n",
      "  90  91  92  93  94  95  96  97  98  99 100]\n",
      "\n",
      "#2 교차 검증 정확도 :0.7723, 학습 데이터 크기: 202, 검증 데이터 크기: 101\n",
      "#2 검증 세트 인덱스:[101 102 103 104 105 106 107 108 109 110 111 112 113 114 115 116 117 118\n",
      " 119 120 121 122 123 124 125 126 127 128 129 130 131 132 133 134 135 136\n",
      " 137 138 139 140 141 142 143 144 145 146 147 148 149 150 151 152 153 154\n",
      " 155 156 157 158 159 160 161 162 163 164 165 166 167 168 169 170 171 172\n",
      " 173 174 175 176 177 178 179 180 181 182 183 184 185 186 187 188 189 190\n",
      " 191 192 193 194 195 196 197 198 199 200 201]\n",
      "\n",
      "#3 교차 검증 정확도 :0.4653, 학습 데이터 크기: 202, 검증 데이터 크기: 101\n",
      "#3 검증 세트 인덱스:[202 203 204 205 206 207 208 209 210 211 212 213 214 215 216 217 218 219\n",
      " 220 221 222 223 224 225 226 227 228 229 230 231 232 233 234 235 236 237\n",
      " 238 239 240 241 242 243 244 245 246 247 248 249 250 251 252 253 254 255\n",
      " 256 257 258 259 260 261 262 263 264 265 266 267 268 269 270 271 272 273\n",
      " 274 275 276 277 278 279 280 281 282 283 284 285 286 287 288 289 290 291\n",
      " 292 293 294 295 296 297 298 299 300 301 302]\n",
      "\n",
      "## 평균 정확도: 0.6270666666666667\n"
     ]
    }
   ],
   "source": [
    "heart_data=heart.drop(\"target\",axis=1)# target값만 지정해줌\n",
    "heart_target=heart[\"target\"]# feature값만 지정해줌\n",
    "heart_data_array=heart_data.values#array로 바꿔줘야 index로 kfold가능\n",
    "heart_target_array=heart_target.values\n",
    "dt_clf=DecisionTreeClassifier(random_state=156)\n",
    "kfold=KFold(n_splits=3)#303개의 행이여서 3으로 잡음\n",
    "cv_accuracy=[]\n",
    "case=0\n",
    "\n",
    "for train_index,test_index in kfold.split(heart_data_array):\n",
    "    x_train,x_test=heart_data_array[train_index],heart_data_array[test_index]\n",
    "    y_train,y_test=heart_target_array[train_index],heart_target_array[test_index]\n",
    "    \n",
    "    #학습,예측\n",
    "    dt_clf.fit(x_train,y_train)\n",
    "    pred=dt_clf.predict(x_test)\n",
    "    case+=1\n",
    "    \n",
    "    #정확도 출력\n",
    "    accuracy=np.round(accuracy_score(y_test,pred),4)\n",
    "    train_size=x_train.shape[0]\n",
    "    test_size=x_test.shape[0]\n",
    "    print('\\n#{0} 교차 검증 정확도 :{1}, 학습 데이터 크기: {2}, 검증 데이터 크기: {3}'\n",
    "          .format(case, accuracy, train_size, test_size))\n",
    "    print('#{0} 검증 세트 인덱스:{1}'.format(case,test_index))\n",
    "    cv_accuracy.append(accuracy)\n",
    "#kfold 평균 정확도 계산\n",
    "print(\"\\n## 평균 정확도:\",np.mean(cv_accuracy))"
   ]
  },
  {
   "cell_type": "code",
   "execution_count": null,
   "metadata": {},
   "outputs": [],
   "source": []
  }
 ],
 "metadata": {
  "kernelspec": {
   "display_name": "Python 3",
   "language": "python",
   "name": "python3"
  },
  "language_info": {
   "codemirror_mode": {
    "name": "ipython",
    "version": 3
   },
   "file_extension": ".py",
   "mimetype": "text/x-python",
   "name": "python",
   "nbconvert_exporter": "python",
   "pygments_lexer": "ipython3",
   "version": "3.7.6"
  }
 },
 "nbformat": 4,
 "nbformat_minor": 4
}
